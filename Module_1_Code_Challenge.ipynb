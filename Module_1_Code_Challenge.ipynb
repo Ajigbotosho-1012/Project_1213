{
  "cells": [
    {
      "cell_type": "markdown",
      "metadata": {
        "id": "view-in-github",
        "colab_type": "text"
      },
      "source": [
        "<a href=\"https://colab.research.google.com/github/Ajigbotosho-1012/Project_1213/blob/main/Module_1_Code_Challenge.ipynb\" target=\"_parent\"><img src=\"https://colab.research.google.com/assets/colab-badge.svg\" alt=\"Open In Colab\"/></a>"
      ]
    },
    {
      "cell_type": "markdown",
      "id": "1a729239-b06f-4f2e-be3f-d56c5ea08799",
      "metadata": {
        "id": "1a729239-b06f-4f2e-be3f-d56c5ea08799"
      },
      "source": [
        "## 1. Variables and Data Types in Python\n",
        "\n",
        "Challenge: Create variables to store your name, age, and whether you are a student.\n",
        "Instructions:\n",
        "        Fill in the blanks to declare variables and store:\n",
        "            Your name (string),\n",
        "            Your age (integer), and\n",
        "            A boolean value indicating if you are a student.\n",
        "        Print each variable and its type using the type() function.\n",
        "\n"
      ]
    },
    {
      "cell_type": "code",
      "execution_count": 1,
      "id": "521e03a4-94cf-4f81-a04a-543657f17952",
      "metadata": {
        "id": "521e03a4-94cf-4f81-a04a-543657f17952",
        "outputId": "dc6b59f3-d0cb-4cbe-dc54-9e5d31d8f0d6",
        "colab": {
          "base_uri": "https://localhost:8080/"
        }
      },
      "outputs": [
        {
          "output_type": "stream",
          "name": "stdout",
          "text": [
            "Name: Ajigbotosho Hammed Olaitan\n",
            "20\n",
            "True\n",
            "<class 'str'>\n",
            "<class 'int'>\n",
            "<class 'bool'>\n"
          ]
        }
      ],
      "source": [
        "# Fill in the blanks\n",
        "name = \"Ajigbotosho Hammed Olaitan\"  # Your name here\n",
        "age = 20  # Your age here\n",
        "is_student = True # True or False\n",
        "\n",
        "# Print each variable\n",
        "print(\"Name:\", name)\n",
        "print(age) # Print age\n",
        "print(is_student) # print is student\n",
        "\n",
        "# Print data types\n",
        "print(type(name))  # Type of name\n",
        "print(type(age))  # Type of age\n",
        "print(type(is_student))  # Type of is_student\n",
        "\n"
      ]
    },
    {
      "cell_type": "markdown",
      "id": "337df472-c456-4de4-9710-f385e7012a83",
      "metadata": {
        "id": "337df472-c456-4de4-9710-f385e7012a83"
      },
      "source": [
        "## 2. Converting Variables to Different Data Types\n",
        "\n",
        "Challenge: Write code that converts variables from one data type to another.\n",
        "Instructions:\n",
        "        Convert an integer to a string and concatenate it with a phrase.\n",
        "        Convert a string containing a number to an integer and add 10.\n",
        "        Convert a float to an integer.\n",
        "\n"
      ]
    },
    {
      "cell_type": "code",
      "execution_count": 3,
      "id": "95085b8c-559b-4ff3-8c78-ffe7d8fc80a3",
      "metadata": {
        "id": "95085b8c-559b-4ff3-8c78-ffe7d8fc80a3",
        "outputId": "3f92b4f2-4d20-4180-bac8-63811381515c",
        "colab": {
          "base_uri": "https://localhost:8080/"
        }
      },
      "outputs": [
        {
          "output_type": "stream",
          "name": "stdout",
          "text": [
            "My age is 25\n",
            "100\n",
            "5\n"
          ]
        }
      ],
      "source": [
        "# Fill in the blanks\n",
        "age = 25\n",
        "age_str = str(age)  # Convert to string\n",
        "print(\"My age is \" + age_str)\n",
        "\n",
        "num_str = \"50\"\n",
        "num_int = int(num_str)  # Convert string to integer\n",
        "print(num_int + 50)\n",
        "\n",
        "height = 5.9\n",
        "height_int = int(height)  # Convert float to integer\n",
        "print(height_int)\n",
        "\n"
      ]
    },
    {
      "cell_type": "markdown",
      "id": "81dc7e84",
      "metadata": {
        "id": "81dc7e84"
      },
      "source": [
        "## 3. Mathematical Operations\n",
        "\n",
        "Challenge: Perform basic arithmetic operations on two numbers.\n",
        "Instructions:\n",
        "        Fill in the blanks to perform and print the result of each arithmetic operation.\n",
        "\n"
      ]
    },
    {
      "cell_type": "code",
      "execution_count": 4,
      "id": "60c28123",
      "metadata": {
        "id": "60c28123",
        "outputId": "0e0643fb-dd72-4d25-b20a-1284f2b829fc",
        "colab": {
          "base_uri": "https://localhost:8080/"
        }
      },
      "outputs": [
        {
          "output_type": "stream",
          "name": "stdout",
          "text": [
            "Addition: 19\n",
            "Subtraction: 11\n",
            "Multiplication: 60\n",
            "Division: 3.75\n",
            "Modulus: 3\n"
          ]
        }
      ],
      "source": [
        "# Fill in the blanks\n",
        "num1 = 15\n",
        "num2 = 4\n",
        "\n",
        "print(\"Addition:\", num1 + num2)\n",
        "print(\"Subtraction:\", num1 - num2)\n",
        "print(\"Multiplication:\", num1 * num2)\n",
        "print(\"Division:\", num1 / num2)\n",
        "print(\"Modulus:\", num1 % num2)\n",
        "\n"
      ]
    },
    {
      "cell_type": "markdown",
      "id": "a5f42a77",
      "metadata": {
        "id": "a5f42a77"
      },
      "source": [
        "## 4. Strings and String Manipulation\n",
        "\n",
        "Challenge: Practice string slicing and manipulation.\n",
        "Instructions:\n",
        "        Fill in the blanks to extract and print parts of the string and use string functions.\n",
        "\n"
      ]
    },
    {
      "cell_type": "code",
      "execution_count": 5,
      "id": "756d1515",
      "metadata": {
        "id": "756d1515",
        "outputId": "103bed9c-78ee-4e60-fc52-f9fee3f6a2ee",
        "colab": {
          "base_uri": "https://localhost:8080/"
        }
      },
      "outputs": [
        {
          "output_type": "stream",
          "name": "stdout",
          "text": [
            "Hello\n",
            "HELLO, WORLD!\n",
            "5\n",
            "Hello, Python!\n"
          ]
        }
      ],
      "source": [
        "# Fill in the blanks\n",
        "my_string = \"Hello, World!\"\n",
        "\n",
        "# Slicing\n",
        "print(my_string[0 : 5])  # Outputs \"Hello\"\n",
        "\n",
        "# Convert to uppercase\n",
        "print(my_string.upper())\n",
        "\n",
        "# Find index of comma\n",
        "print(my_string.index(\",\"))\n",
        "\n",
        "# Replace \"World\" with \"Python\"\n",
        "new_string = my_string.replace(\"World\",\"Python\")\n",
        "print(new_string)\n",
        "\n"
      ]
    },
    {
      "cell_type": "markdown",
      "id": "26fd094b-0fee-46f1-a4b8-73766813c42b",
      "metadata": {
        "tags": [],
        "id": "26fd094b-0fee-46f1-a4b8-73766813c42b"
      },
      "source": [
        "## 5. Python Data Structures\n",
        "\n",
        "Challenge: Create and manipulate lists, tuples, and dictionaries.\n",
        "Instructions:\n",
        "        Fill in the blanks to complete the tasks.\n",
        "\n"
      ]
    },
    {
      "cell_type": "code",
      "execution_count": 6,
      "id": "422a50e6-7c86-41c3-aeda-43493e2e7556",
      "metadata": {
        "id": "422a50e6-7c86-41c3-aeda-43493e2e7556",
        "outputId": "09e76bd1-7170-4fc1-d159-cd26c1ab5bb1",
        "colab": {
          "base_uri": "https://localhost:8080/"
        }
      },
      "outputs": [
        {
          "output_type": "stream",
          "name": "stdout",
          "text": [
            "['apple', 'banana', 'cherry', 'orange']\n",
            "{'Alice': 85, 'Bob': 90, 'Charlie': 78, 'Grace': 70}\n"
          ]
        }
      ],
      "source": [
        "# List\n",
        "fruits = [\"apple\", \"banana\", \"cherry\"]\n",
        "fruits.append(\"orange\")\n",
        "print(fruits)\n",
        "\n",
        "# Tuple\n",
        "numbers = (1, 2, 3)\n",
        "# Uncommenting the following line will cause an error, as tuples are immutable\n",
        "# numbers[0] = 0\n",
        "\n",
        "# Dictionary\n",
        "grades = {\"Alice\": 85, \"Bob\": 90, \"Charlie\": 78}\n",
        "grades[\"Grace\"] = 70  # Add a new student and grade\n",
        "print(grades)\n",
        "\n"
      ]
    },
    {
      "cell_type": "markdown",
      "id": "5b5c712e-4fec-473a-8958-89e1582400d5",
      "metadata": {
        "id": "5b5c712e-4fec-473a-8958-89e1582400d5"
      },
      "source": [
        "## 6. Conditional Statements\n",
        "\n",
        "Challenge: Write a program that checks if a number is positive, negative, or zero.\n",
        "Instructions:\n",
        "        Fill in the blanks with if, elif, and else to complete the conditions.\n",
        "\n"
      ]
    },
    {
      "cell_type": "code",
      "execution_count": 8,
      "id": "d4b90202-fc3d-43bf-9e0e-b8927a4d2259",
      "metadata": {
        "id": "d4b90202-fc3d-43bf-9e0e-b8927a4d2259",
        "outputId": "a088863e-04a7-4933-a469-011a5438e266",
        "colab": {
          "base_uri": "https://localhost:8080/"
        }
      },
      "outputs": [
        {
          "output_type": "stream",
          "name": "stdout",
          "text": [
            "The number is negative.\n"
          ]
        }
      ],
      "source": [
        "from types import EllipsisType\n",
        "# Fill in the blanks\n",
        "num = -50\n",
        "\n",
        "if num > 0:\n",
        "    print(\"The number is positive.\")\n",
        "elif num < 0:\n",
        "    print(\"The number is negative.\")\n",
        "else:\n",
        "    print(\"The number is zero.\")"
      ]
    },
    {
      "cell_type": "code",
      "source": [],
      "metadata": {
        "id": "BK_KqNIRQ49B"
      },
      "id": "BK_KqNIRQ49B",
      "execution_count": null,
      "outputs": []
    }
  ],
  "metadata": {
    "kernelspec": {
      "display_name": "Python 3 (ipykernel)",
      "language": "python",
      "name": "python3"
    },
    "language_info": {
      "codemirror_mode": {
        "name": "ipython",
        "version": 3
      },
      "file_extension": ".py",
      "mimetype": "text/x-python",
      "name": "python",
      "nbconvert_exporter": "python",
      "pygments_lexer": "ipython3",
      "version": "3.11.5"
    },
    "colab": {
      "provenance": [],
      "include_colab_link": true
    }
  },
  "nbformat": 4,
  "nbformat_minor": 5
}