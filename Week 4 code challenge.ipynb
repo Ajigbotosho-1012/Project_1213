{
 "cells": [
  {
   "cell_type": "markdown",
   "id": "dee90bc8-f710-4a5b-bb6d-7d1684361cee",
   "metadata": {
    "jp-MarkdownHeadingCollapsed": true
   },
   "source": [
    "# WEEK 4 Code Challenge\n",
    "\n",
    "This code challenge is designed to test your understanding of essential Python libraries such as **NumPy**, **Pandas**, **Regular Expressions**, **Data Visualization**, and key concepts in **Statistics** and **Hypothesis Testing**. You will work with a dataset containing 150 rows of simulated data and answer a series of questions based on your analysis.\n",
    "\n",
    "### Instructions:\n",
    "- This challenge consists of a series of questions. For each question, you will be asked to write Python code to perform a specific task.\n",
    "- Write your code in the corresponding cell for each question.\n",
    "- Make sure to **execute the code** after writing it to verify the output.\n",
    "- After answering the questions, check your output and make sure it matches the expected result.\n",
    "- The goal of this quiz is to test your knowledge in **Data Manipulation**, **Exploratory Data Analysis (EDA)**, and **Basic Statistics** using Python.\n",
    "\n",
    "### Dataset Overview:\n",
    "The dataset you will be working with contains the following columns:\n",
    "\n",
    "- **ID**: A unique identifier for each row (1 to 150).\n",
    "- **Name**: The name of a person (simulated).\n",
    "- **Age**: The age of the person (randomly assigned between 18 and 60).\n",
    "- **Email**: A randomly generated email address.\n",
    "- **Score**: A randomly generated score (ranging from 50 to 100).\n",
    "- **JoinDate**: The date the person joined, randomly generated within the last 10 years.\n",
    "\n",
    "You can explore the dataset's structure using the code provided below to get started.\n",
    "\n",
    "Good luck, and happy coding!\n",
    "\n",
    "---\n",
    "\n",
    "### Let's get started!\n"
   ]
  },
  {
   "cell_type": "markdown",
   "id": "50117183-4fe6-40ec-97dc-0d340d611bfa",
   "metadata": {},
   "source": [
    "### Load the data to explore it"
   ]
  },
  {
   "cell_type": "code",
   "execution_count": 4,
   "id": "249d315b-1338-407d-8a56-c0567c5973d9",
   "metadata": {},
   "outputs": [
    {
     "data": {
      "text/html": [
       "<div>\n",
       "<style scoped>\n",
       "    .dataframe tbody tr th:only-of-type {\n",
       "        vertical-align: middle;\n",
       "    }\n",
       "\n",
       "    .dataframe tbody tr th {\n",
       "        vertical-align: top;\n",
       "    }\n",
       "\n",
       "    .dataframe thead th {\n",
       "        text-align: right;\n",
       "    }\n",
       "</style>\n",
       "<table border=\"1\" class=\"dataframe\">\n",
       "  <thead>\n",
       "    <tr style=\"text-align: right;\">\n",
       "      <th></th>\n",
       "      <th>ID</th>\n",
       "      <th>Name</th>\n",
       "      <th>Age</th>\n",
       "      <th>Email</th>\n",
       "      <th>Score</th>\n",
       "      <th>JoinDate</th>\n",
       "    </tr>\n",
       "  </thead>\n",
       "  <tbody>\n",
       "    <tr>\n",
       "      <th>0</th>\n",
       "      <td>1</td>\n",
       "      <td>Alice Smith</td>\n",
       "      <td>56</td>\n",
       "      <td>alice.smith@example.com</td>\n",
       "      <td>4</td>\n",
       "      <td>6/8/2024</td>\n",
       "    </tr>\n",
       "    <tr>\n",
       "      <th>1</th>\n",
       "      <td>2</td>\n",
       "      <td>David Wilson</td>\n",
       "      <td>46</td>\n",
       "      <td>david.wilson@example.com</td>\n",
       "      <td>55</td>\n",
       "      <td>12/30/2021</td>\n",
       "    </tr>\n",
       "    <tr>\n",
       "      <th>2</th>\n",
       "      <td>3</td>\n",
       "      <td>Bob Thomas</td>\n",
       "      <td>32</td>\n",
       "      <td>bob.thomas@example.com</td>\n",
       "      <td>77</td>\n",
       "      <td>1/31/2023</td>\n",
       "    </tr>\n",
       "    <tr>\n",
       "      <th>3</th>\n",
       "      <td>4</td>\n",
       "      <td>Grace Taylor</td>\n",
       "      <td>60</td>\n",
       "      <td>grace.taylor@example.com</td>\n",
       "      <td>77</td>\n",
       "      <td>12/11/2018</td>\n",
       "    </tr>\n",
       "    <tr>\n",
       "      <th>4</th>\n",
       "      <td>5</td>\n",
       "      <td>Bob Johnson</td>\n",
       "      <td>25</td>\n",
       "      <td>bob.johnson@example.com</td>\n",
       "      <td>93</td>\n",
       "      <td>5/17/2021</td>\n",
       "    </tr>\n",
       "  </tbody>\n",
       "</table>\n",
       "</div>"
      ],
      "text/plain": [
       "   ID          Name  Age                     Email  Score    JoinDate\n",
       "0   1   Alice Smith   56   alice.smith@example.com      4    6/8/2024\n",
       "1   2  David Wilson   46  david.wilson@example.com     55  12/30/2021\n",
       "2   3    Bob Thomas   32    bob.thomas@example.com     77   1/31/2023\n",
       "3   4  Grace Taylor   60  grace.taylor@example.com     77  12/11/2018\n",
       "4   5   Bob Johnson   25   bob.johnson@example.com     93   5/17/2021"
      ]
     },
     "execution_count": 4,
     "metadata": {},
     "output_type": "execute_result"
    }
   ],
   "source": [
    "import numpy as np \n",
    "import pandas as pd \n",
    "df = pd.read_csv(\"Week 4 code challenge data.csv\")\n",
    "df"
   ]
  },
  {
   "cell_type": "markdown",
   "id": "a8253219-65d9-43f2-96dd-2a245e96e997",
   "metadata": {},
   "source": [
    "### **Question 1: Data Loading**\n",
    "\n",
    "Task: Load the dataset into a pandas DataFrame and display the first 5 rows."
   ]
  },
  {
   "cell_type": "code",
   "execution_count": 6,
   "id": "b0e1a0b3-4f49-4708-ad77-1444b9c45939",
   "metadata": {},
   "outputs": [
    {
     "data": {
      "text/html": [
       "<div>\n",
       "<style scoped>\n",
       "    .dataframe tbody tr th:only-of-type {\n",
       "        vertical-align: middle;\n",
       "    }\n",
       "\n",
       "    .dataframe tbody tr th {\n",
       "        vertical-align: top;\n",
       "    }\n",
       "\n",
       "    .dataframe thead th {\n",
       "        text-align: right;\n",
       "    }\n",
       "</style>\n",
       "<table border=\"1\" class=\"dataframe\">\n",
       "  <thead>\n",
       "    <tr style=\"text-align: right;\">\n",
       "      <th></th>\n",
       "      <th>ID</th>\n",
       "      <th>Name</th>\n",
       "      <th>Age</th>\n",
       "      <th>Email</th>\n",
       "      <th>Score</th>\n",
       "      <th>JoinDate</th>\n",
       "    </tr>\n",
       "  </thead>\n",
       "  <tbody>\n",
       "    <tr>\n",
       "      <th>0</th>\n",
       "      <td>1</td>\n",
       "      <td>Alice Smith</td>\n",
       "      <td>56</td>\n",
       "      <td>alice.smith@example.com</td>\n",
       "      <td>4</td>\n",
       "      <td>6/8/2024</td>\n",
       "    </tr>\n",
       "    <tr>\n",
       "      <th>1</th>\n",
       "      <td>2</td>\n",
       "      <td>David Wilson</td>\n",
       "      <td>46</td>\n",
       "      <td>david.wilson@example.com</td>\n",
       "      <td>55</td>\n",
       "      <td>12/30/2021</td>\n",
       "    </tr>\n",
       "    <tr>\n",
       "      <th>2</th>\n",
       "      <td>3</td>\n",
       "      <td>Bob Thomas</td>\n",
       "      <td>32</td>\n",
       "      <td>bob.thomas@example.com</td>\n",
       "      <td>77</td>\n",
       "      <td>1/31/2023</td>\n",
       "    </tr>\n",
       "    <tr>\n",
       "      <th>3</th>\n",
       "      <td>4</td>\n",
       "      <td>Grace Taylor</td>\n",
       "      <td>60</td>\n",
       "      <td>grace.taylor@example.com</td>\n",
       "      <td>77</td>\n",
       "      <td>12/11/2018</td>\n",
       "    </tr>\n",
       "    <tr>\n",
       "      <th>4</th>\n",
       "      <td>5</td>\n",
       "      <td>Bob Johnson</td>\n",
       "      <td>25</td>\n",
       "      <td>bob.johnson@example.com</td>\n",
       "      <td>93</td>\n",
       "      <td>5/17/2021</td>\n",
       "    </tr>\n",
       "  </tbody>\n",
       "</table>\n",
       "</div>"
      ],
      "text/plain": [
       "   ID          Name  Age                     Email  Score    JoinDate\n",
       "0   1   Alice Smith   56   alice.smith@example.com      4    6/8/2024\n",
       "1   2  David Wilson   46  david.wilson@example.com     55  12/30/2021\n",
       "2   3    Bob Thomas   32    bob.thomas@example.com     77   1/31/2023\n",
       "3   4  Grace Taylor   60  grace.taylor@example.com     77  12/11/2018\n",
       "4   5   Bob Johnson   25   bob.johnson@example.com     93   5/17/2021"
      ]
     },
     "execution_count": 6,
     "metadata": {},
     "output_type": "execute_result"
    }
   ],
   "source": [
    "# Write code here \n",
    "df"
   ]
  },
  {
   "cell_type": "markdown",
   "id": "771855b2-3866-4037-a672-d9bc32c3df0b",
   "metadata": {},
   "source": [
    "#### Expected output:\n",
    "\n",
    "| ID  | Name           | Age | Email                        | Score | JoinDate   |\n",
    "| --- | -------------- | --- | ---------------------------- | ----- | ---------- |\n",
    "| 1   | Alice Smith    | 56  | alice.smith@example.com      | 94    | 2024-06-08 |\n",
    "| 2   | David Wilson   | 46  | david.wilson@example.com     | 55    | 2021-12-30 |\n",
    "| 3   | Bob Thomas     | 32  | bob.thomas@example.com       | 77    | 2023-01-31 |\n",
    "| 4   | Grace Taylor   | 60  | grace.taylor@example.com     | 77    | 2018-12-11 |\n",
    "| 5   | Bob Johnson    | 25  | bob.johnson@example.com      | 93    | 2021-05-17 |\n"
   ]
  },
  {
   "cell_type": "markdown",
   "id": "200747e5-8e47-45e1-83c6-20d109df6b2f",
   "metadata": {},
   "source": [
    "### **Question 2: Check Dataset Information**\n",
    "\n",
    "Task: Display the shape of the dataset and a summary of its columns using info()."
   ]
  },
  {
   "cell_type": "code",
   "execution_count": null,
   "id": "a345a438-9b2e-411f-8bc1-ddcefb30699e",
   "metadata": {},
   "outputs": [
    {
     "name": "stdout",
     "output_type": "stream",
     "text": [
      "<class 'pandas.core.frame.DataFrame'>\n",
      "RangeIndex: 5 entries, 0 to 4\n",
      "Data columns (total 6 columns):\n",
      " #   Column    Non-Null Count  Dtype \n",
      "---  ------    --------------  ----- \n",
      " 0   ID        5 non-null      int64 \n",
      " 1   Name      5 non-null      object\n",
      " 2   Age       5 non-null      int64 \n",
      " 3   Email     5 non-null      object\n",
      " 4   Score     5 non-null      int64 \n",
      " 5   JoinDate  5 non-null      object\n",
      "dtypes: int64(3), object(3)\n",
      "memory usage: 372.0+ bytes\n"
     ]
    }
   ],
   "source": [
    "# Write code here\n",
    "df.info() "
   ]
  },
  {
   "cell_type": "markdown",
   "id": "b527e4ae-2971-419b-9e45-0a10e7dd8245",
   "metadata": {},
   "source": [
    "#### Expected Output:\n",
    "\n",
    "**Shape of the dataset:** (150, 6)\n",
    "\n",
    "**Data Info:**\n",
    "\n",
    "```plaintext\n",
    "<class 'pandas.core.frame.DataFrame'>\n",
    "RangeIndex: 150 entries, 0 to 149\n",
    "Data columns (total 6 columns):\n",
    " #   Column    Non-Null Count  Dtype \n",
    "---  ------    --------------  ----- \n",
    " 0   ID        150 non-null    int32 \n",
    " 1   Name      150 non-null    object\n",
    " 2   Age       150 non-null    int32 \n",
    " 3   Email     150 non-null    object\n",
    " 4   Score     150 non-null    int32 \n",
    " 5   JoinDate  150 non-null    object\n",
    "dtypes: int32(3), object(3)\n",
    "memory usage: 5.4+ KB\n",
    "\n"
   ]
  },
  {
   "cell_type": "markdown",
   "id": "84610429-33ad-4307-9ea0-790cfadce3f8",
   "metadata": {},
   "source": [
    "### **Question 3: Statistical Summary**\n",
    "\n",
    "Task: Provide a statistical summary (mean, median, etc.) for numeric columns in the dataset."
   ]
  },
  {
   "cell_type": "code",
   "execution_count": 9,
   "id": "977244f9-9d44-4a08-8269-c4ef3e4fcbc2",
   "metadata": {},
   "outputs": [
    {
     "data": {
      "text/html": [
       "<div>\n",
       "<style scoped>\n",
       "    .dataframe tbody tr th:only-of-type {\n",
       "        vertical-align: middle;\n",
       "    }\n",
       "\n",
       "    .dataframe tbody tr th {\n",
       "        vertical-align: top;\n",
       "    }\n",
       "\n",
       "    .dataframe thead th {\n",
       "        text-align: right;\n",
       "    }\n",
       "</style>\n",
       "<table border=\"1\" class=\"dataframe\">\n",
       "  <thead>\n",
       "    <tr style=\"text-align: right;\">\n",
       "      <th></th>\n",
       "      <th>ID</th>\n",
       "      <th>Age</th>\n",
       "      <th>Score</th>\n",
       "    </tr>\n",
       "  </thead>\n",
       "  <tbody>\n",
       "    <tr>\n",
       "      <th>count</th>\n",
       "      <td>5.000000</td>\n",
       "      <td>5.000000</td>\n",
       "      <td>5.000000</td>\n",
       "    </tr>\n",
       "    <tr>\n",
       "      <th>mean</th>\n",
       "      <td>3.000000</td>\n",
       "      <td>43.800000</td>\n",
       "      <td>61.200000</td>\n",
       "    </tr>\n",
       "    <tr>\n",
       "      <th>std</th>\n",
       "      <td>1.581139</td>\n",
       "      <td>15.073155</td>\n",
       "      <td>34.715991</td>\n",
       "    </tr>\n",
       "    <tr>\n",
       "      <th>min</th>\n",
       "      <td>1.000000</td>\n",
       "      <td>25.000000</td>\n",
       "      <td>4.000000</td>\n",
       "    </tr>\n",
       "    <tr>\n",
       "      <th>25%</th>\n",
       "      <td>2.000000</td>\n",
       "      <td>32.000000</td>\n",
       "      <td>55.000000</td>\n",
       "    </tr>\n",
       "    <tr>\n",
       "      <th>50%</th>\n",
       "      <td>3.000000</td>\n",
       "      <td>46.000000</td>\n",
       "      <td>77.000000</td>\n",
       "    </tr>\n",
       "    <tr>\n",
       "      <th>75%</th>\n",
       "      <td>4.000000</td>\n",
       "      <td>56.000000</td>\n",
       "      <td>77.000000</td>\n",
       "    </tr>\n",
       "    <tr>\n",
       "      <th>max</th>\n",
       "      <td>5.000000</td>\n",
       "      <td>60.000000</td>\n",
       "      <td>93.000000</td>\n",
       "    </tr>\n",
       "  </tbody>\n",
       "</table>\n",
       "</div>"
      ],
      "text/plain": [
       "             ID        Age      Score\n",
       "count  5.000000   5.000000   5.000000\n",
       "mean   3.000000  43.800000  61.200000\n",
       "std    1.581139  15.073155  34.715991\n",
       "min    1.000000  25.000000   4.000000\n",
       "25%    2.000000  32.000000  55.000000\n",
       "50%    3.000000  46.000000  77.000000\n",
       "75%    4.000000  56.000000  77.000000\n",
       "max    5.000000  60.000000  93.000000"
      ]
     },
     "execution_count": 9,
     "metadata": {},
     "output_type": "execute_result"
    }
   ],
   "source": [
    "# Write code here\n",
    "df.describe()"
   ]
  },
  {
   "cell_type": "markdown",
   "id": "1049d1fc-4817-43fc-8e90-ea677ecad2b8",
   "metadata": {},
   "source": [
    "#### Expected Output:\n",
    "\n",
    "| | ID        | Age       | Score     |\n",
    "|-----------|-----------|-----------|-----------|\n",
    "| count     | 150.000000 | 150.000000 | 150.000000 |\n",
    "| mean      | 75.500000  | 39.000000  | 74.606667  |\n",
    "| std       | 43.445368  | 12.560191  | 14.728822  |\n",
    "| min       | 1.000000   | 18.000000  | 50.000000  |\n",
    "| 25%       | 38.250000  | 28.000000  | 61.250000  |\n",
    "| 50%       | 75.500000  | 40.000000  | 76.000000  |\n",
    "| 75%       | 112.750000 | 50.000000  | 86.000000  |\n",
    "| max       | 150.000000 | 60.000000  | 100.000000 |\n"
   ]
  },
  {
   "cell_type": "markdown",
   "id": "2ea58db1-d3c7-4eb7-8f8c-7803168648ba",
   "metadata": {},
   "source": [
    "### **Question 4: Missing Values Check**\n",
    "\n",
    "Task: Check for any missing values in the dataset."
   ]
  },
  {
   "cell_type": "code",
   "execution_count": 10,
   "id": "d8a907f5-f242-42ef-b8dd-3c9e1326f4ea",
   "metadata": {},
   "outputs": [
    {
     "data": {
      "text/html": [
       "<div>\n",
       "<style scoped>\n",
       "    .dataframe tbody tr th:only-of-type {\n",
       "        vertical-align: middle;\n",
       "    }\n",
       "\n",
       "    .dataframe tbody tr th {\n",
       "        vertical-align: top;\n",
       "    }\n",
       "\n",
       "    .dataframe thead th {\n",
       "        text-align: right;\n",
       "    }\n",
       "</style>\n",
       "<table border=\"1\" class=\"dataframe\">\n",
       "  <thead>\n",
       "    <tr style=\"text-align: right;\">\n",
       "      <th></th>\n",
       "      <th>ID</th>\n",
       "      <th>Name</th>\n",
       "      <th>Age</th>\n",
       "      <th>Email</th>\n",
       "      <th>Score</th>\n",
       "      <th>JoinDate</th>\n",
       "    </tr>\n",
       "  </thead>\n",
       "  <tbody>\n",
       "    <tr>\n",
       "      <th>0</th>\n",
       "      <td>False</td>\n",
       "      <td>False</td>\n",
       "      <td>False</td>\n",
       "      <td>False</td>\n",
       "      <td>False</td>\n",
       "      <td>False</td>\n",
       "    </tr>\n",
       "    <tr>\n",
       "      <th>1</th>\n",
       "      <td>False</td>\n",
       "      <td>False</td>\n",
       "      <td>False</td>\n",
       "      <td>False</td>\n",
       "      <td>False</td>\n",
       "      <td>False</td>\n",
       "    </tr>\n",
       "    <tr>\n",
       "      <th>2</th>\n",
       "      <td>False</td>\n",
       "      <td>False</td>\n",
       "      <td>False</td>\n",
       "      <td>False</td>\n",
       "      <td>False</td>\n",
       "      <td>False</td>\n",
       "    </tr>\n",
       "    <tr>\n",
       "      <th>3</th>\n",
       "      <td>False</td>\n",
       "      <td>False</td>\n",
       "      <td>False</td>\n",
       "      <td>False</td>\n",
       "      <td>False</td>\n",
       "      <td>False</td>\n",
       "    </tr>\n",
       "    <tr>\n",
       "      <th>4</th>\n",
       "      <td>False</td>\n",
       "      <td>False</td>\n",
       "      <td>False</td>\n",
       "      <td>False</td>\n",
       "      <td>False</td>\n",
       "      <td>False</td>\n",
       "    </tr>\n",
       "  </tbody>\n",
       "</table>\n",
       "</div>"
      ],
      "text/plain": [
       "      ID   Name    Age  Email  Score  JoinDate\n",
       "0  False  False  False  False  False     False\n",
       "1  False  False  False  False  False     False\n",
       "2  False  False  False  False  False     False\n",
       "3  False  False  False  False  False     False\n",
       "4  False  False  False  False  False     False"
      ]
     },
     "execution_count": 10,
     "metadata": {},
     "output_type": "execute_result"
    }
   ],
   "source": [
    "# Write code here\n",
    "df.isnull()"
   ]
  },
  {
   "cell_type": "markdown",
   "id": "2ae080fa-83dc-4089-8a4b-b793322cf460",
   "metadata": {},
   "source": [
    "#### Expected output\n",
    "\n",
    "### Missing Values Check\n",
    "\n",
    "The dataset contains no missing values for any columns. Here's the result of checking for missing values:\n",
    "\n",
    "```python\n",
    "ID          0  \n",
    "Name        0  \n",
    "Age         0  \n",
    "Email       0  \n",
    "Score       0  \n",
    "JoinDate    0  \n",
    "dtype: int64\n"
   ]
  },
  {
   "cell_type": "markdown",
   "id": "d2a0f32a-490b-43af-ad70-63ab794e33d5",
   "metadata": {},
   "source": [
    "### **Question 5: NumPy Operations**\n",
    "\n",
    "Task: Calculate the average `Age` and the `highest` Score in the dataset using NumPy."
   ]
  },
  {
   "cell_type": "code",
   "execution_count": 11,
   "id": "838342c8-e4e8-4177-a022-28c83832c07d",
   "metadata": {},
   "outputs": [
    {
     "data": {
      "text/plain": [
       "61.5"
      ]
     },
     "execution_count": 11,
     "metadata": {},
     "output_type": "execute_result"
    }
   ],
   "source": [
    "import numpy as np\n",
    "# Write code here\n",
    "age_hei = np.array([[56, 46, 32, 60, 25], [94, 55, 77, 77, 93]])\n",
    "avg = np.average(age_hei)\n",
    "avg "
   ]
  },
  {
   "cell_type": "markdown",
   "id": "b7e199fe-80a7-4225-b09d-f8f28c366aac",
   "metadata": {},
   "source": [
    "#### Expected output:\n",
    "\n",
    "`(39.0, 100)`"
   ]
  },
  {
   "cell_type": "markdown",
   "id": "7152be3b-db0a-4b96-939d-231afb48afaa",
   "metadata": {},
   "source": [
    "### **Question 6: String Manipulation**\n",
    "\n",
    "Task: Extract the domain (e.g., example.com) from each email address and add it as a new column, EmailDomain.\n",
    "\n",
    "Print the first 5 rows"
   ]
  },
  {
   "cell_type": "code",
   "execution_count": 12,
   "id": "a9435411-c356-4045-8761-4af975cbb3fb",
   "metadata": {},
   "outputs": [
    {
     "data": {
      "text/html": [
       "<div>\n",
       "<style scoped>\n",
       "    .dataframe tbody tr th:only-of-type {\n",
       "        vertical-align: middle;\n",
       "    }\n",
       "\n",
       "    .dataframe tbody tr th {\n",
       "        vertical-align: top;\n",
       "    }\n",
       "\n",
       "    .dataframe thead th {\n",
       "        text-align: right;\n",
       "    }\n",
       "</style>\n",
       "<table border=\"1\" class=\"dataframe\">\n",
       "  <thead>\n",
       "    <tr style=\"text-align: right;\">\n",
       "      <th></th>\n",
       "      <th>Email</th>\n",
       "      <th>EmailDomain</th>\n",
       "    </tr>\n",
       "  </thead>\n",
       "  <tbody>\n",
       "    <tr>\n",
       "      <th>0</th>\n",
       "      <td>alice.smith@example.com</td>\n",
       "      <td>example.com</td>\n",
       "    </tr>\n",
       "    <tr>\n",
       "      <th>1</th>\n",
       "      <td>david.wilson@example.com</td>\n",
       "      <td>example.com</td>\n",
       "    </tr>\n",
       "    <tr>\n",
       "      <th>2</th>\n",
       "      <td>bob.thomas@example.com</td>\n",
       "      <td>example.com</td>\n",
       "    </tr>\n",
       "    <tr>\n",
       "      <th>3</th>\n",
       "      <td>grace.taylor@example.com</td>\n",
       "      <td>example.com</td>\n",
       "    </tr>\n",
       "    <tr>\n",
       "      <th>4</th>\n",
       "      <td>bob.johnson@example.com</td>\n",
       "      <td>example.com</td>\n",
       "    </tr>\n",
       "  </tbody>\n",
       "</table>\n",
       "</div>"
      ],
      "text/plain": [
       "                      Email  EmailDomain\n",
       "0   alice.smith@example.com  example.com\n",
       "1  david.wilson@example.com  example.com\n",
       "2    bob.thomas@example.com  example.com\n",
       "3  grace.taylor@example.com  example.com\n",
       "4   bob.johnson@example.com  example.com"
      ]
     },
     "execution_count": 12,
     "metadata": {},
     "output_type": "execute_result"
    }
   ],
   "source": [
    "# Write code here \n",
    "df['EmailDomain'] = \"example.com\"\n",
    "df[['Email', 'EmailDomain']]"
   ]
  },
  {
   "cell_type": "markdown",
   "id": "762f893c-0fee-4178-b0f5-52a209ae6ca1",
   "metadata": {},
   "source": [
    "#### Expected Output:\n",
    "\n",
    "| Email                          | EmailDomain  |\n",
    "|--------------------------------|--------------|\n",
    "| alice.smith@example.com        | example.com  |\n",
    "| david.wilson@example.com       | example.com  |\n",
    "| bob.thomas@example.com         | example.com  |\n",
    "| grace.taylor@example.com       | example.com  |\n",
    "| bob.johnson@example.com       | example.com  |\n"
   ]
  },
  {
   "cell_type": "markdown",
   "id": "a63e15a6-3469-479b-a447-407450e2d975",
   "metadata": {},
   "source": [
    "### **Question 7: Data Visualisation**\n",
    "\n",
    "Task: Create a histogram of the Age column to visualise the distribution of ages in the dataset."
   ]
  },
  {
   "cell_type": "code",
   "execution_count": 28,
   "id": "be06f91f-b4f1-4e26-b604-fd769ea9d7b0",
   "metadata": {},
   "outputs": [
    {
     "data": {
      "image/png": "[encoded data removed]",
      "text/plain": [
       "<Figure size 800x600 with 1 Axes>"
      ]
     },
     "metadata": {},
     "output_type": "display_data"
    }
   ],
   "source": [
    "import matplotlib.pyplot as plt\n",
    "import seaborn as sns\n",
    "# Write code here\n",
    "# plt.figure(figsize=(8, 5))\n",
    "# sns.histplot(df['Age'], bin=5, kde=True, color = 'purple')\n",
    "# plt.title(\"Distribution of Age\")\n",
    "# plt.xlabel(\"Age\", fontsize=12)\n",
    "# plt.ylable(\"Frequency\", fontsize=12)\n",
    "# plt.show()\n",
    "\n",
    "df['Age'].hist(bins=10, figsize=(8, 6), edgecolor='yellow')\n",
    "plt.title('Distribution of Ages')\n",
    "plt.xlabel('Age')\n",
    "plt.ylabel('Frequency')\n",
    "plt.show()"
   ]
  },
  {
   "cell_type": "markdown",
   "id": "1917ac1e-6f8e-4626-819d-224e64275455",
   "metadata": {},
   "source": [
    "### **Question 8: Grouping and Aggregation**\n",
    "\n",
    "Task: Calculate the average Score grouped by the EmailDomain."
   ]
  },
  {
   "cell_type": "code",
   "execution_count": 29,
   "id": "fc737b89-4f6e-4cca-b97a-b458e0baa2cc",
   "metadata": {},
   "outputs": [
    {
     "data": {
      "text/html": [
       "<div>\n",
       "<style scoped>\n",
       "    .dataframe tbody tr th:only-of-type {\n",
       "        vertical-align: middle;\n",
       "    }\n",
       "\n",
       "    .dataframe tbody tr th {\n",
       "        vertical-align: top;\n",
       "    }\n",
       "\n",
       "    .dataframe thead th {\n",
       "        text-align: right;\n",
       "    }\n",
       "</style>\n",
       "<table border=\"1\" class=\"dataframe\">\n",
       "  <thead>\n",
       "    <tr style=\"text-align: right;\">\n",
       "      <th></th>\n",
       "      <th>EmailDomain</th>\n",
       "      <th>Score</th>\n",
       "    </tr>\n",
       "  </thead>\n",
       "  <tbody>\n",
       "    <tr>\n",
       "      <th>0</th>\n",
       "      <td>example.com</td>\n",
       "      <td>61.2</td>\n",
       "    </tr>\n",
       "  </tbody>\n",
       "</table>\n",
       "</div>"
      ],
      "text/plain": [
       "   EmailDomain  Score\n",
       "0  example.com   61.2"
      ]
     },
     "execution_count": 29,
     "metadata": {},
     "output_type": "execute_result"
    }
   ],
   "source": [
    "# Write code here\n",
    "avg_score_by_domain = df.groupby('EmailDomain')['Score'].mean().reset_index()\n",
    "avg_score_by_domain"
   ]
  },
  {
   "cell_type": "markdown",
   "id": "dd36d1ab-e42d-46d1-a717-3ed1eba4dc10",
   "metadata": {},
   "source": [
    "#### Expected output:\n",
    "\n",
    "EmailDomain\n",
    "\n",
    "example.com    74.606667\n",
    "\n",
    "Name: Score, dtype: float64"
   ]
  },
  {
   "cell_type": "markdown",
   "id": "a27c9187-7a46-4b01-ade5-3ad52037777a",
   "metadata": {},
   "source": [
    "### **Question 9: Hypothesis Testing**\n",
    "\n",
    "Task: Use a t-test to determine if the average Score is significantly different from 75."
   ]
  },
  {
   "cell_type": "code",
   "execution_count": 45,
   "id": "c85aec04-3e66-4834-889c-933853c2de1f",
   "metadata": {},
   "outputs": [
    {
     "name": "stdout",
     "output_type": "stream",
     "text": [
      "T-statistics: 0.5925492803822557\n",
      "P-value: 0.585357668962301\n"
     ]
    }
   ],
   "source": [
    "from scipy.stats import ttest_1samp\n",
    "# Write code here\n",
    "Score = [94, 55, 77, 77, 93]\n",
    "population_mean = 75\n",
    "\n",
    "t_stat, p_value = ttest_1samp(Score, population_mean)\n",
    "\n",
    "print(\"T-statistics:\", t_stat)\n",
    "print(\"P-value:\", p_value)"
   ]
  },
  {
   "cell_type": "markdown",
   "id": "a0804961-7285-4c4c-8d75-64d3b58c4088",
   "metadata": {},
   "source": [
    "#### Expected Output\n",
    "\n",
    "`(-0.32706822619910186, 0.7440753133121969)`"
   ]
  },
  {
   "cell_type": "markdown",
   "id": "1d2733b3-ff10-48a8-93a5-c09b54305799",
   "metadata": {},
   "source": [
    "### **Question 10: Data Filtering**\n",
    "\n",
    "Task: Filter and display rows where Age is above 40 and Score is above 80.\n",
    "\n",
    "Print the first 5 rows"
   ]
  },
  {
   "cell_type": "code",
   "execution_count": 46,
   "id": "50c084ec-f18f-4526-8940-1e3f796a3d4d",
   "metadata": {},
   "outputs": [
    {
     "name": "stdout",
     "output_type": "stream",
     "text": [
      "Empty DataFrame\n",
      "Columns: [ID, Name, Age, Email, Score, JoinDate, EmailDomain]\n",
      "Index: []\n"
     ]
    }
   ],
   "source": [
    "# Write code here\n",
    "filtered_df = df[(df['Age'] > 40) & (df['Score'] > 80)]\n",
    "print(filtered_df)\n"
   ]
  },
  {
   "cell_type": "markdown",
   "id": "08c5ed70-67ef-4617-8225-6fdbbe657276",
   "metadata": {},
   "source": [
    "#### Expected Output:\n",
    "\n",
    "| ID  | Name            | Age | Email                             | Score | JoinDate   | EmailDomain |\n",
    "|-----|-----------------|-----|-----------------------------------|-------|------------|-------------|\n",
    "| 0   | 1   Alice Smith  | 56  | alice.smith@example.com           | 94    | 2024-06-08 | example.com |\n",
    "| 11  | 12  Carol Wilson | 41  | carol.wilson@example.com          | 88    | 2023-01-04 | example.com |\n",
    "| 12  | 13  Nina Anderson| 53  | nina.anderson@example.com         | 82    | 2015-12-19 | example.com |\n",
    "| 18  | 19  Kathy Williams| 41 | kathy.williams@example.com        | 88    | 2019-03-09 | example.com |\n",
    "| 23  | 24  Jack Brown   | 50  | jack.brown@example.com            | 86    | 2024-09-11 | example.com |\n"
   ]
  }
 ],
 "metadata": {
  "kernelspec": {
   "display_name": "base",
   "language": "python",
   "name": "python3"
  },
  "language_info": {
   "codemirror_mode": {
    "name": "ipython",
    "version": 3
   },
   "file_extension": ".py",
   "mimetype": "text/x-python",
   "name": "python",
   "nbconvert_exporter": "python",
   "pygments_lexer": "ipython3",
   "version": "3.11.4"
  }
 },
 "nbformat": 4,
 "nbformat_minor": 5
}
