{
  "cells": [
    {
      "cell_type": "markdown",
      "metadata": {
        "id": "view-in-github",
        "colab_type": "text"
      },
      "source": [
        "<a href=\"https://colab.research.google.com/github/Ajigbotosho-1012/Project_1213/blob/main/Module_3_Code_Challenge.ipynb\" target=\"_parent\"><img src=\"https://colab.research.google.com/assets/colab-badge.svg\" alt=\"Open In Colab\"/></a>"
      ]
    },
    {
      "cell_type": "markdown",
      "id": "2cde96d5-bebe-4c0d-8fcc-cd8891cc7ccf",
      "metadata": {
        "id": "2cde96d5-bebe-4c0d-8fcc-cd8891cc7ccf"
      },
      "source": [
        "# Code Challenge: Python Concepts\n",
        "## 1. Recursive Function: Factorial Calculation\n",
        "\n",
        "Problem:\n",
        "Write a recursive function to calculate the factorial of a given number n. The factorial of a number n (denoted n!) is the product of all positive integers less than or equal to n. The base case is when n == 0, which returns 1."
      ]
    },
    {
      "cell_type": "code",
      "execution_count": null,
      "id": "7bfe5adb-e83b-4a02-8193-e0ca7504aed9",
      "metadata": {
        "id": "7bfe5adb-e83b-4a02-8193-e0ca7504aed9",
        "outputId": "06020c12-992e-4d7d-caf8-87f3f871fa61"
      },
      "outputs": [
        {
          "name": "stdout",
          "output_type": "stream",
          "text": [
            "5 ! = 120\n"
          ]
        }
      ],
      "source": [
        "# def factorial(n):\n",
        "#     # write code here\n",
        "#     if n < 0:\n",
        "#         raise ValueError (\"n must be non-negative integer\")\n",
        "#     elif n == 0:\n",
        "#         return 1\n",
        "#     else:\n",
        "#         return n * factorial (n-1)\n",
        "\n",
        "# n = int(input(\"Enter a number: \"))\n",
        "# print(f\"{n}! = {factorial (n)}\")\n",
        "\n",
        "# factorial()\n",
        "\n",
        "def main():\n",
        "    n = int(input(\"Enter a number: \"))\n",
        "    try:\n",
        "        result = factorial (n)\n",
        "        print(f\"{n} ! = {result}\")\n",
        "    except ValueError as e:\n",
        "        print(e)\n",
        "\n",
        "if __name__ == \"__main__\":\n",
        "    main()"
      ]
    },
    {
      "cell_type": "markdown",
      "id": "8e180d84-97d4-4bc4-b117-13f41bb9de5f",
      "metadata": {
        "id": "8e180d84-97d4-4bc4-b117-13f41bb9de5f"
      },
      "source": [
        "## 2. Lambda Function: Sorting a List of Tuples\n",
        "\n",
        "Problem:\n",
        "Use a lambda function to sort a list of tuples by the second element in each tuple. For example, given the list [(1, 3), (2, 2), (4, 1)], the sorted list should be `[(4, 1), (2, 2), (1, 3)`].\n"
      ]
    },
    {
      "cell_type": "code",
      "execution_count": null,
      "id": "fa5456de-804f-4eef-86a7-b90e6267a48b",
      "metadata": {
        "id": "fa5456de-804f-4eef-86a7-b90e6267a48b",
        "outputId": "07a154aa-c568-4677-d30c-4f0d18158412"
      },
      "outputs": [
        {
          "name": "stdout",
          "output_type": "stream",
          "text": [
            "Original list: [(1, 3), (2, 2), (4, 1)]\n",
            "Sorted list: [(4, 1), (2, 2), (1, 3)]\n"
          ]
        }
      ],
      "source": [
        "# Write code here\n",
        "tuple_list = [(1, 3), (2, 2), (4, 1)]\n",
        "sorted_list = sorted(tuple_list,\n",
        "                     key = lambda x: x[1])\n",
        "print(\"Original list:\", tuple_list)\n",
        "print(\"Sorted list:\", sorted_list)"
      ]
    },
    {
      "cell_type": "markdown",
      "id": "311fba3c-e76b-4a77-af9e-503ce1af28fd",
      "metadata": {
        "id": "311fba3c-e76b-4a77-af9e-503ce1af28fd"
      },
      "source": [
        "## 3. Clean Code: Refactor the Function\n",
        "\n",
        "Problem:\n",
        "The following function calculates the area of a rectangle. It has poor variable naming and lacks clarity. Refactor the function to improve readability and adhere to clean code principles.\n",
        "\n",
        "```python\n",
        "def calc(a, b):\n",
        "    return a * b\n"
      ]
    },
    {
      "cell_type": "code",
      "execution_count": null,
      "id": "2bd02d5b-108d-4a68-bab5-81f0505c2cce",
      "metadata": {
        "id": "2bd02d5b-108d-4a68-bab5-81f0505c2cce",
        "outputId": "6c86ed1d-ca77-4394-bc03-4be8ce590745"
      },
      "outputs": [
        {
          "data": {
            "text/plain": [
              "50"
            ]
          },
          "execution_count": 6,
          "metadata": {},
          "output_type": "execute_result"
        }
      ],
      "source": [
        "# write code here\n",
        "def area_of_rect(a, b):\n",
        "    return a * b\n",
        "\n",
        "area_of_rect(10,5)"
      ]
    },
    {
      "cell_type": "markdown",
      "id": "b7f97bae-fcc4-4ef0-b931-6ff581069bb2",
      "metadata": {
        "id": "b7f97bae-fcc4-4ef0-b931-6ff581069bb2"
      },
      "source": [
        "### 4. Object-Oriented Programming: Bank Account\n",
        "\n",
        "Problem:\n",
        "Create a class BankAccount that has:\n",
        "\n",
        "    An attribute balance (initially set to 0).\n",
        "    Methods deposit(amount) to add money to the balance and withdraw(amount) to subtract money from the balance.\n",
        "    A method get_balance() that returns the current balance."
      ]
    },
    {
      "cell_type": "code",
      "execution_count": null,
      "id": "590d7e05-7d9c-427c-a979-1b8c5e668aed",
      "metadata": {
        "id": "590d7e05-7d9c-427c-a979-1b8c5e668aed",
        "outputId": "75ec90a9-d702-4149-83e9-98e49f0995ae"
      },
      "outputs": [
        {
          "name": "stdout",
          "output_type": "stream",
          "text": [
            "Deposited #  100. New balance: #  100\n",
            "Withdraw #  30. New balance: #  70\n",
            "70\n"
          ]
        }
      ],
      "source": [
        "class BankAccount:\n",
        "    # Add code here\n",
        "    def __init__(self):\n",
        "        \"\"\"Initialize account with zero balance.\"\"\"\n",
        "        self.balance = 0\n",
        "        # Initial balance is set to 0\n",
        "\n",
        "    def deposit(self, amount):\n",
        "        \"\"\"Add money to the account balance.\"\"\"\n",
        "        if amount > 0:\n",
        "            self.balance += amount\n",
        "            print(f\"Deposited # {amount: }. New balance: # {self.balance: }\")\n",
        "        else:\n",
        "            print(\"Invalid deposit amount.\")\n",
        "        # Add code here\n",
        "\n",
        "    def withdraw(self, amount):\n",
        "        \"\"\"Subtract money from the account balance.\"\"\"\n",
        "        if 0 < amount <= self.balance:\n",
        "            self.balance -= amount\n",
        "            print(f\"Withdraw # {amount: }. New balance: # {self.balance: }\")\n",
        "        elif amount <= 0:\n",
        "            print(\"Invalid withdrawal amount.\")\n",
        "        else:\n",
        "            print(\"Insufficient funds.\")\n",
        "\n",
        "\n",
        "    def get_balance(self):\n",
        "        \"\"\"Return the current account balance.\"\"\"\n",
        "        return self.balance\n",
        "        # Add code here\n",
        "\n",
        "\n",
        "account = BankAccount()\n",
        "account.deposit(100)\n",
        "account.withdraw(30)\n",
        "print(account.get_balance())  # Output: 70\n"
      ]
    },
    {
      "cell_type": "markdown",
      "id": "d629bc06-7974-408f-99b4-f4ef5ca421f4",
      "metadata": {
        "id": "d629bc06-7974-408f-99b4-f4ef5ca421f4"
      },
      "source": [
        "### 5. Recursive Function: Fibonacci Sequence\n",
        "\n",
        "Problem:\n",
        "Write a recursive function that returns the nth number in the Fibonacci sequence. The Fibonacci sequence is defined as:\n",
        "\n",
        "    F(0) = 0\n",
        "    F(1) = 1\n",
        "    F(n) = F(n-1) + F(n-2) for n > 1"
      ]
    },
    {
      "cell_type": "code",
      "execution_count": null,
      "id": "1d13f428-f170-4bd2-afa0-36432d149f66",
      "metadata": {
        "id": "1d13f428-f170-4bd2-afa0-36432d149f66",
        "outputId": "6ef475c9-7311-4951-d279-99bac12e0e88"
      },
      "outputs": [
        {
          "name": "stdout",
          "output_type": "stream",
          "text": [
            "fibonnaci (10) = 55\n"
          ]
        }
      ],
      "source": [
        "def fibonacci(n):\n",
        "    # Base cases\n",
        "    if n < 0:\n",
        "        raise ValueError(\"n must be a non-negative integer\")\n",
        "    elif n == 0:\n",
        "        return 0\n",
        "        # add code here\n",
        "    elif n == 1:\n",
        "        return 1\n",
        "    else:\n",
        "        return fibonacci ( n-1) + fibonacci (n -2)\n",
        "        # add code here\n",
        "    # Recursive case: fibonacci(n-1) + fibonacci(n-2)\n",
        "    return fibonacci(n - 1) + fibonacci(n - 2)\n",
        "\n",
        "n = 10\n",
        "result = fibonacci(n)\n",
        "print(f\"fibonnaci ({n}) = {result}\")\n"
      ]
    },
    {
      "cell_type": "code",
      "execution_count": null,
      "id": "71172ec0",
      "metadata": {
        "id": "71172ec0"
      },
      "outputs": [],
      "source": []
    }
  ],
  "metadata": {
    "kernelspec": {
      "display_name": "Python 3",
      "language": "python",
      "name": "python3"
    },
    "language_info": {
      "codemirror_mode": {
        "name": "ipython",
        "version": 3
      },
      "file_extension": ".py",
      "mimetype": "text/x-python",
      "name": "python",
      "nbconvert_exporter": "python",
      "pygments_lexer": "ipython3",
      "version": "3.11.1"
    },
    "colab": {
      "provenance": [],
      "toc_visible": true,
      "include_colab_link": true
    }
  },
  "nbformat": 4,
  "nbformat_minor": 5
}