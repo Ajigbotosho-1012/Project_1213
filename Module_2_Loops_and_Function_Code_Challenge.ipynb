{
  "cells": [
    {
      "cell_type": "markdown",
      "metadata": {
        "id": "view-in-github",
        "colab_type": "text"
      },
      "source": [
        "<a href=\"https://colab.research.google.com/github/Ajigbotosho-1012/Project_1213/blob/main/Module_2_Loops_and_Function_Code_Challenge.ipynb\" target=\"_parent\"><img src=\"https://colab.research.google.com/assets/colab-badge.svg\" alt=\"Open In Colab\"/></a>"
      ]
    },
    {
      "cell_type": "markdown",
      "id": "9d64c996-6482-4b23-ad20-e82cb40171e6",
      "metadata": {
        "id": "9d64c996-6482-4b23-ad20-e82cb40171e6"
      },
      "source": [
        "# Code Challenges: Python Loops and Functions\n",
        "\n",
        "These challenges are designed to test your understanding of Python loops and functions. Carefully read the instructions for each challenge and solve them to practice your coding skills.\n"
      ]
    },
    {
      "cell_type": "markdown",
      "id": "cef58c0f-1a75-4f56-91c7-690ef631c948",
      "metadata": {
        "id": "cef58c0f-1a75-4f56-91c7-690ef631c948"
      },
      "source": [
        "## Challenge 1: Sum of Multiples\n",
        "\n",
        "Write a function called `sum_of_multiples` that takes `two` parameters, `n` and `x`. The function should return the `sum of all multiples` of `x` that are `less` than `n`.\n",
        "\n",
        "    Example Input: n = 10, x = 3\n",
        "    Expected Output: 18 (because 3 + 6 + 9 = 18)"
      ]
    },
    {
      "cell_type": "code",
      "execution_count": 1,
      "id": "f543a8fc-d6ec-4049-b566-2e6c5e6ee8e0",
      "metadata": {
        "colab": {
          "base_uri": "https://localhost:8080/"
        },
        "id": "f543a8fc-d6ec-4049-b566-2e6c5e6ee8e0",
        "outputId": "e356be8f-15a1-40dd-d7a3-0c78b43a03cd"
      },
      "outputs": [
        {
          "output_type": "stream",
          "name": "stdout",
          "text": [
            "18\n"
          ]
        }
      ],
      "source": [
        "# Write code here\n",
        "def sum_of_multiples(n,x):\n",
        "    \"\"\"Returns the sum of all multiples of x that are less than n\n",
        "    \"\"\"\n",
        "    return sum(i for i in range(x,n,x))\n",
        "\n",
        "n = 10\n",
        "x = 3\n",
        "\n",
        "result = sum_of_multiples(10,3)\n",
        "print(result)"
      ]
    },
    {
      "cell_type": "markdown",
      "id": "e599a847-7398-4195-b7cb-f453a63bcb2f",
      "metadata": {
        "id": "e599a847-7398-4195-b7cb-f453a63bcb2f"
      },
      "source": [
        "Example Input: n = 10, x = 3\n",
        "\n",
        "Expected Output: 18 (because 3 + 6 + 9 = 18)"
      ]
    },
    {
      "cell_type": "markdown",
      "id": "4977e5e8-e1b1-4d3b-ab32-b59953bcfd27",
      "metadata": {
        "id": "4977e5e8-e1b1-4d3b-ab32-b59953bcfd27"
      },
      "source": [
        "## Challenge 2: Prime Numbers\n",
        "\n",
        "Write a function called `find_primes` that takes an integer `n` and returns a `list of all prime numbers` less than `n`. Use a `for` loop to check each number.\n",
        "\n",
        "    Example Input: n = 10\n",
        "    Expected Output: [2, 3, 5, 7]"
      ]
    },
    {
      "cell_type": "code",
      "execution_count": 2,
      "id": "a4c53af6-a86f-4a19-80c3-aa48ba72e1b8",
      "metadata": {
        "colab": {
          "base_uri": "https://localhost:8080/"
        },
        "id": "a4c53af6-a86f-4a19-80c3-aa48ba72e1b8",
        "outputId": "c60ba434-5bf6-4861-a8a3-d81e833c4b71"
      },
      "outputs": [
        {
          "output_type": "stream",
          "name": "stdout",
          "text": [
            "Enter the number: 10\n",
            "Prime numbers up to  10 are: [2, 3, 5, 7]\n"
          ]
        }
      ],
      "source": [
        "# Write code here\n",
        "def find_primes(n):\n",
        "    primes = []\n",
        "    for num in range(2, n + 1):\n",
        "        is_prime = True\n",
        "        for i in range(2, int(num ** 0.5) + 1):\n",
        "            if num % i ==0:\n",
        "                is_prime = False\n",
        "                break\n",
        "        if is_prime:\n",
        "            primes.append(num)\n",
        "    return primes\n",
        "\n",
        "n = int(input(\"Enter the number: \"))\n",
        "print(\"Prime numbers up to \", n, \"are:\", find_primes(n))"
      ]
    },
    {
      "cell_type": "markdown",
      "id": "d1c20f03-1763-44b9-a3d3-462228c35ddf",
      "metadata": {
        "id": "d1c20f03-1763-44b9-a3d3-462228c35ddf"
      },
      "source": [
        "Example Input: n = 10\n",
        "\n",
        "Expected Output: `[2, 3, 5, 7]`"
      ]
    },
    {
      "cell_type": "markdown",
      "id": "68ebe93b-68c8-47f6-bd40-d85a3caa97bc",
      "metadata": {
        "id": "68ebe93b-68c8-47f6-bd40-d85a3caa97bc"
      },
      "source": [
        "## Challenge 3: Word Counter\n",
        "\n",
        "Write a function called `count_word_occurrences` that takes a list of words and a specific word as input. The function should return the number of times the word appears in the list.\n",
        "\n",
        "    Example Input: words = [\"apple\", \"banana\", \"apple\", \"orange\", \"banana\"], word = \"apple\"\n",
        "    Expected Output: 2"
      ]
    },
    {
      "cell_type": "code",
      "execution_count": 3,
      "id": "d6d71d3d-aa5d-4892-b9cc-36041c2fd993",
      "metadata": {
        "colab": {
          "base_uri": "https://localhost:8080/"
        },
        "id": "d6d71d3d-aa5d-4892-b9cc-36041c2fd993",
        "outputId": "fed5a90f-9df3-4a90-9291-574176223c3d"
      },
      "outputs": [
        {
          "output_type": "stream",
          "name": "stdout",
          "text": [
            "2\n"
          ]
        }
      ],
      "source": [
        "# Write code here\n",
        "def count_word_occurrences(word_list, target_word):\n",
        "    \"\"\"Returns the number of occurrences of a target word in a list.\n",
        "\n",
        "    Args:\n",
        "        word_list (list): List of words.\n",
        "        target_word (str): Word to search for.\n",
        "\n",
        "    Returns:\n",
        "    int: Number of occurrences.\n",
        "    \"\"\"\n",
        "\n",
        "\n",
        "    count = 0\n",
        "    for word in word_list:\n",
        "        if word.lower() == target_word.lower():\n",
        "            count += 1\n",
        "    return count\n",
        "\n",
        "word_list = [\"apple\", \"banana\", \"apple\", \"orange\", \"banana\"]\n",
        "target_word = \"apple\"\n",
        "print(count_word_occurrences(word_list, target_word))"
      ]
    },
    {
      "cell_type": "markdown",
      "id": "de7d84a9-9def-4950-95aa-ac3d557258a5",
      "metadata": {
        "id": "de7d84a9-9def-4950-95aa-ac3d557258a5"
      },
      "source": [
        "Example Input: words = `[\"apple\", \"banana\", \"apple\", \"orange\", \"banana\"]`, word = \"apple\"\n",
        "\n",
        "Expected Output: 2"
      ]
    },
    {
      "cell_type": "markdown",
      "id": "15c71ca4-281c-4248-b5b0-28120a240965",
      "metadata": {
        "id": "15c71ca4-281c-4248-b5b0-28120a240965"
      },
      "source": [
        "# Challenge 4: Find Maximum\n",
        "\n",
        "Write a function called `find_max_in_list` that takes `a list of numbers` as `input` and returns the `largest number in the list`. Use a `for` loop to find the maximum.\n",
        "\n",
        "    Example Input: numbers = [3, 9, 2, 5, 7]\n",
        "    Expected Output: 9"
      ]
    },
    {
      "cell_type": "code",
      "execution_count": 4,
      "id": "0f79204e-333e-465f-8f94-6bdfb4cd5a64",
      "metadata": {
        "colab": {
          "base_uri": "https://localhost:8080/"
        },
        "id": "0f79204e-333e-465f-8f94-6bdfb4cd5a64",
        "outputId": "9de4a275-d155-4973-a461-658923c9dc69"
      },
      "outputs": [
        {
          "output_type": "stream",
          "name": "stdout",
          "text": [
            "9\n"
          ]
        }
      ],
      "source": [
        "# Write code here\n",
        "def find_max_in_list(numbers):\n",
        "    \"\"\"The largest number in the list.\n",
        "\n",
        "    Args:\n",
        "        list (int): list of numbers.\n",
        "\n",
        "    Returns the maximum numbers\n",
        "    \"\"\"\n",
        "\n",
        "\n",
        "    max_num = numbers[0]\n",
        "    for num in numbers:\n",
        "        if num > max_num:\n",
        "            max_num = num\n",
        "    print(max_num)\n",
        "\n",
        "numbers = [3,9,2,5,7]\n",
        "find_max_in_list(numbers)"
      ]
    },
    {
      "cell_type": "markdown",
      "id": "bf24f127-8d5a-48a3-947d-0e87e1cc01ea",
      "metadata": {
        "id": "bf24f127-8d5a-48a3-947d-0e87e1cc01ea"
      },
      "source": [
        "Example Input: numbers = `[3, 9, 2, 5, 7]`\n",
        "\n",
        "Expected Output: 9"
      ]
    },
    {
      "cell_type": "markdown",
      "id": "7316c157-9ba6-41ae-a70d-a11212bc814d",
      "metadata": {
        "id": "7316c157-9ba6-41ae-a70d-a11212bc814d"
      },
      "source": [
        "## Challenge 5: Reverse a String\n",
        "\n",
        "Write a function called `reverse_string` that takes a `string` as `input` and returns the `string reversed`. Do not use any built-in functions like reversed(). Use a for loop instead.\n",
        "\n",
        "    Example Input: \"hello\"\n",
        "    Expected Output: \"olleh\""
      ]
    },
    {
      "cell_type": "code",
      "execution_count": 5,
      "id": "284e8a65-741c-4b86-914e-aa174b4a992d",
      "metadata": {
        "colab": {
          "base_uri": "https://localhost:8080/",
          "height": 53
        },
        "id": "284e8a65-741c-4b86-914e-aa174b4a992d",
        "outputId": "fc309b46-ae96-4a19-b2b3-5e56126052bb"
      },
      "outputs": [
        {
          "name": "stdout",
          "output_type": "stream",
          "text": [
            "Enter the stringhello\n"
          ]
        },
        {
          "output_type": "execute_result",
          "data": {
            "text/plain": [
              "'olleh'"
            ],
            "application/vnd.google.colaboratory.intrinsic+json": {
              "type": "string"
            }
          },
          "metadata": {},
          "execution_count": 5
        }
      ],
      "source": [
        "# Write code here\n",
        "def reverse_string(s):\n",
        "    reversed_s = \"\"\n",
        "    for char in s:\n",
        "        reversed_s = char + reversed_s\n",
        "    return reversed_s\n",
        "s = input(\"Enter the string\")\n",
        "reverse_string(s)"
      ]
    },
    {
      "cell_type": "markdown",
      "id": "251aaed8-4df9-4c85-a9b6-daa277fff3d7",
      "metadata": {
        "id": "251aaed8-4df9-4c85-a9b6-daa277fff3d7"
      },
      "source": [
        "Example Input: `\"hello\"`\n",
        "\n",
        "Expected Output: `\"olleh\"`"
      ]
    },
    {
      "cell_type": "markdown",
      "id": "0c24cd65-e198-4b8d-8ca6-921788d5b830",
      "metadata": {
        "id": "0c24cd65-e198-4b8d-8ca6-921788d5b830"
      },
      "source": [
        "## Challenge 6: Multiplication Table\n",
        "\n",
        "Write a for loop that prints the multiplication table for a given number n (up to 10).\n",
        "\n",
        "    Example Input: n = 5\n",
        "    Expected Output:\n",
        "\n",
        "    5 x 1 = 5  \n",
        "    5 x 2 = 10  \n",
        "    5 x 3 = 15  \n",
        "    ...\n",
        "    5 x 10 = 50  "
      ]
    },
    {
      "cell_type": "code",
      "execution_count": 6,
      "id": "d904ac24-591f-458f-91ae-9fce45bcf0dd",
      "metadata": {
        "colab": {
          "base_uri": "https://localhost:8080/"
        },
        "id": "d904ac24-591f-458f-91ae-9fce45bcf0dd",
        "outputId": "1262301e-3336-4d44-e02a-8d00a291ade6"
      },
      "outputs": [
        {
          "output_type": "stream",
          "name": "stdout",
          "text": [
            "Multiplication Table for 5:\n",
            "5 * 1 = 5\n",
            "5 * 2 = 10\n",
            "5 * 3 = 15\n",
            "5 * 4 = 20\n",
            "5 * 5 = 25\n",
            "5 * 6 = 30\n",
            "5 * 7 = 35\n",
            "5 * 8 = 40\n",
            "5 * 9 = 45\n",
            "5 * 10 = 50\n"
          ]
        }
      ],
      "source": [
        "# Write code here\n",
        "def prints_multiplication_table(n):\n",
        "    \"\"\"Prints a multiplication table for n up to 10.\n",
        "\n",
        "    Args:\n",
        "        n (int): Number for which the table is generated.\n",
        "    \"\"\"\n",
        "    print(f\"Multiplication Table for {n}:\")\n",
        "    for i in range(1, 11):\n",
        "        product = n * i\n",
        "        print(f\"{n} * {i} = {product}\")\n",
        "\n",
        "n = 5\n",
        "prints_multiplication_table(n)"
      ]
    },
    {
      "cell_type": "markdown",
      "id": "8667e445-099f-4eb1-846b-46502d217bc2",
      "metadata": {
        "id": "8667e445-099f-4eb1-846b-46502d217bc2"
      },
      "source": [
        "## Challenge 7: Fibonacci Sequence\n",
        "\n",
        "Write a function called `fibonacci` that takes an integer `n` and returns a list of the first `n` numbers in the `Fibonacci sequence`.\n",
        "\n",
        "    Example Input: n = 5\n",
        "    Expected Output: [0, 1, 1, 2, 3]\n"
      ]
    },
    {
      "cell_type": "code",
      "execution_count": 7,
      "id": "bcd94c88-48b0-402b-b177-5e03c47bf274",
      "metadata": {
        "colab": {
          "base_uri": "https://localhost:8080/"
        },
        "id": "bcd94c88-48b0-402b-b177-5e03c47bf274",
        "outputId": "e597d363-3140-4a7c-d0e1-5f38af0db3f7"
      },
      "outputs": [
        {
          "output_type": "stream",
          "name": "stdout",
          "text": [
            "[0, 1, 1, 2, 3]\n"
          ]
        }
      ],
      "source": [
        "# Write code here\n",
        "def Fibonacci(n):\n",
        "    \"\"\"\n",
        "    Returns a list of the first n numbers in the fibonacci sequence.\n",
        "\n",
        "    Args:\n",
        "        n (int): Number of Fibonacci numbers to generate.\n",
        "\n",
        "    Returns:\n",
        "    list: Fibonacci numbers\n",
        "    \"\"\"\n",
        "    fib_sequence = [0, 1]\n",
        "    while len(fib_sequence) < n:\n",
        "        fib_sequence.append(fib_sequence[-1]\n",
        "                            + fib_sequence[-2])\n",
        "    return fib_sequence[:n]\n",
        "\n",
        "n = 5\n",
        "\n",
        "print(Fibonacci(n))"
      ]
    },
    {
      "cell_type": "markdown",
      "id": "0f07a954-cf02-4a3a-9614-cf8257c04330",
      "metadata": {
        "id": "0f07a954-cf02-4a3a-9614-cf8257c04330"
      },
      "source": [
        "## Challenge 8: Filter Even Numbers\n",
        "\n",
        "Write a function called `filter_evens` that takes a `list` of numbers as input and returns a new list containing only the `even numbers`. Use a for loop and if condition.\n",
        "\n",
        "    Example Input: numbers = [1, 2, 3, 4, 5, 6]\n",
        "    Expected Output: [2, 4, 6]"
      ]
    },
    {
      "cell_type": "code",
      "execution_count": 8,
      "id": "dd865cb0-00a6-4974-819a-d0a5976aa91b",
      "metadata": {
        "colab": {
          "base_uri": "https://localhost:8080/"
        },
        "id": "dd865cb0-00a6-4974-819a-d0a5976aa91b",
        "outputId": "d03f89ac-1c8d-47df-c71a-997cb90b9260"
      },
      "outputs": [
        {
          "output_type": "stream",
          "name": "stdout",
          "text": [
            "[2, 4, 6]\n"
          ]
        }
      ],
      "source": [
        "# Write code here\n",
        "def filters_evens(numbers):\n",
        "    \"\"\"\n",
        "    Returns a new list containing only the even numbers.\n",
        "\n",
        "    Args:\n",
        "        numbers (list): List of numbers.\n",
        "\n",
        "    Returns:\n",
        "    list: Even numbers.\n",
        "    \"\"\"\n",
        "\n",
        "    even_numbers = []\n",
        "    for num in numbers:\n",
        "        if num % 2 == 0:\n",
        "            even_numbers.append(num)\n",
        "    return even_numbers\n",
        "numbers = [1,2,3,4,5,6]\n",
        "even_numbers = filters_evens(numbers)\n",
        "print(even_numbers)"
      ]
    },
    {
      "cell_type": "markdown",
      "id": "246ddadd-2176-4e87-8bea-eaa984f25c8e",
      "metadata": {
        "id": "246ddadd-2176-4e87-8bea-eaa984f25c8e"
      },
      "source": [
        "## Challenge 9: Count Vowels\n",
        "\n",
        "Write a function called `count_vowels` that takes a `string` as input and returns the `number` of `vowels` in the string. Use a `for` loop to iterate through the characters.\n",
        "\n",
        "    Example Input: \"education\"\n",
        "    Expected Output: 5"
      ]
    },
    {
      "cell_type": "code",
      "execution_count": 9,
      "id": "f436af52-17e5-4654-9a99-ea2797213ca3",
      "metadata": {
        "colab": {
          "base_uri": "https://localhost:8080/"
        },
        "id": "f436af52-17e5-4654-9a99-ea2797213ca3",
        "outputId": "baa2836d-5b42-45ea-e4bd-a3d65b7e8ece"
      },
      "outputs": [
        {
          "output_type": "stream",
          "name": "stdout",
          "text": [
            "5\n"
          ]
        }
      ],
      "source": [
        "# Write code here\n",
        "def count_vowels(s):\n",
        "    \"\"\"\n",
        "    Returns the number of vowels in the input string.\n",
        "\n",
        "    Args:\n",
        "        s (str): input string\n",
        "\n",
        "    Returns:\n",
        "    int: Vowel count.\n",
        "    \"\"\"\n",
        "    vowels = 'aeiou'\n",
        "    count = 0\n",
        "    for char in s:\n",
        "        if char in vowels:\n",
        "            count += 1\n",
        "    return count\n",
        "input_string = \"education\"\n",
        "vowel_count = count_vowels(input_string)\n",
        "print(vowel_count)"
      ]
    },
    {
      "cell_type": "markdown",
      "id": "2a61f85f-352d-469c-a65c-97d65234f3ad",
      "metadata": {
        "id": "2a61f85f-352d-469c-a65c-97d65234f3ad"
      },
      "source": [
        "## Challenge 10: Nested Loops for Patterns\n",
        "\n",
        "Write a `nested` `for` `loop` to generate the following pattern for a given number of rows `n`:\n",
        "\n",
        "    Example Input: n = 5\n",
        "    Expected Output:\n",
        "\n",
        "```\n",
        "*  \n",
        "**\n",
        "***\n",
        "****\n",
        "*****\n",
        "```"
      ]
    },
    {
      "cell_type": "code",
      "execution_count": 10,
      "id": "dc593e14-2722-4ff5-a9a2-18c434b36847",
      "metadata": {
        "colab": {
          "base_uri": "https://localhost:8080/"
        },
        "id": "dc593e14-2722-4ff5-a9a2-18c434b36847",
        "outputId": "4dbf80d2-d51a-491c-f658-3cc282e09f21"
      },
      "outputs": [
        {
          "output_type": "stream",
          "name": "stdout",
          "text": [
            "1\n",
            "12\n",
            "123\n",
            "1234\n",
            "12345\n"
          ]
        }
      ],
      "source": [
        "# Write code here\n",
        "n = 5\n",
        "for i in range(1, n+1):\n",
        "    for j in range(1,i + 1):\n",
        "        print(j,end = \"\")\n",
        "    print()"
      ]
    },
    {
      "cell_type": "code",
      "source": [],
      "metadata": {
        "id": "77eYSA4tYVnV"
      },
      "id": "77eYSA4tYVnV",
      "execution_count": null,
      "outputs": []
    }
  ],
  "metadata": {
    "kernelspec": {
      "display_name": "Python 3 (ipykernel)",
      "language": "python",
      "name": "python3"
    },
    "language_info": {
      "codemirror_mode": {
        "name": "ipython",
        "version": 3
      },
      "file_extension": ".py",
      "mimetype": "text/x-python",
      "name": "python",
      "nbconvert_exporter": "python",
      "pygments_lexer": "ipython3",
      "version": "3.11.5"
    },
    "colab": {
      "provenance": [],
      "include_colab_link": true
    }
  },
  "nbformat": 4,
  "nbformat_minor": 5
}